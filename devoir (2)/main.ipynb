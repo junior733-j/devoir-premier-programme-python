{
 "cells": [
  {
   "cell_type": "code",
   "execution_count": null,
   "metadata": {},
   "outputs": [],
   "source": [
    "nombre = float (input(\"saisir un nombre : \" ))\n",
    "if nombre > 0:\n",
    "   print (\"le nombres est positif\")\n",
    "elif nombre < 0:\n",
    "   print (\"Le nombres est negatif\")\n",
    "else :\n",
    "   print (\"le nombre est nul\")"
   ]
  }
 ],
 "metadata": {
  "kernelspec": {
   "display_name": "Python 3",
   "language": "python",
   "name": "python3"
  },
  "language_info": {
   "codemirror_mode": {
    "name": "ipython",
    "version": 3
   },
   "file_extension": ".py",
   "mimetype": "text/x-python",
   "name": "python",
   "nbconvert_exporter": "python",
   "pygments_lexer": "ipython3",
   "version": "3.13.1"
  }
 },
 "nbformat": 4,
 "nbformat_minor": 2
}
