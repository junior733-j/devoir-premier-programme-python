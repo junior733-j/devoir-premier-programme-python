{
 "cells": [
  {
   "cell_type": "code",
   "execution_count": 4,
   "metadata": {},
   "outputs": [
    {
     "name": "stdout",
     "output_type": "stream",
     "text": [
      "excellent\n"
     ]
    }
   ],
   "source": [
    "note = float(input(\"entrez votre note (entre 0 et 20) : \"))\n",
    "if note < 10 :\n",
    "    print (\"insuffisant\")\n",
    "elif 10 <= note < 14:\n",
    "    print (\"passable\")\n",
    "elif 10 <= note < 18 :\n",
    "    print (\"Bien\")\n",
    "elif 18 <= note < 20 :\n",
    "    print (\"excellent\")\n",
    "else :\n",
    "    print (\"La note entree n'est pas valide . veuillez emtrer une valeur 0 et 20.\")"
   ]
  }
 ],
 "metadata": {
  "kernelspec": {
   "display_name": "Python 3",
   "language": "python",
   "name": "python3"
  },
  "language_info": {
   "codemirror_mode": {
    "name": "ipython",
    "version": 3
   },
   "file_extension": ".py",
   "mimetype": "text/x-python",
   "name": "python",
   "nbconvert_exporter": "python",
   "pygments_lexer": "ipython3",
   "version": "3.13.1"
  }
 },
 "nbformat": 4,
 "nbformat_minor": 2
}
