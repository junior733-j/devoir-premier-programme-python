{
 "cells": [
  {
   "cell_type": "code",
   "execution_count": 6,
   "metadata": {},
   "outputs": [
    {
     "name": "stdout",
     "output_type": "stream",
     "text": [
      "bonus : {bonus} reais\n"
     ]
    }
   ],
   "source": [
    "objectif = 20000\n",
    "ventes =float(input(\"entrez le montant des ventes : \"))\n",
    "if ventes < objectif :\n",
    "    print (\"pas de bonus\")\n",
    "elif ventes >= 2 * objectif :\n",
    "    bonus = 0.07 * ventes\n",
    "    print ( f\" bonus : {bonus} reais \")\n",
    "elif ventes >= objectif:\n",
    "    bonus = ventes * 0.03\n",
    "    print(\"bonus : {bonus} reais\")\n",
    "else :\n",
    "    bonus = 0.03 * ventes\n",
    "    print ( f\"Bonus : {bonus} reais\")"
   ]
  },
  {
   "cell_type": "code",
   "execution_count": null,
   "metadata": {},
   "outputs": [],
   "source": []
  }
 ],
 "metadata": {
  "kernelspec": {
   "display_name": "Python 3",
   "language": "python",
   "name": "python3"
  },
  "language_info": {
   "codemirror_mode": {
    "name": "ipython",
    "version": 3
   },
   "file_extension": ".py",
   "mimetype": "text/x-python",
   "name": "python",
   "nbconvert_exporter": "python",
   "pygments_lexer": "ipython3",
   "version": "3.13.1"
  }
 },
 "nbformat": 4,
 "nbformat_minor": 2
}
