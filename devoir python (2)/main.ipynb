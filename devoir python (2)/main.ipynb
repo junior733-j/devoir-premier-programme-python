{
 "cells": [
  {
   "cell_type": "code",
   "execution_count": null,
   "metadata": {},
   "outputs": [],
   "source": [
    "def calculer_bonus(ventes, objectif):\n",
    "    # Si les ventes sont en dessous de l'objectif, pas de bonus\n",
    "    if ventes < objectif:\n",
    "        return 0\n",
    "    # Si les ventes sont plus du double de l'objectif, bonus de 7%\n",
    "    elif ventes >= 2 * objectif:\n",
    "        return ventes * 0.07\n",
    "    # Si les ventes sont au-dessus de l'objectif mais moins du double, bonus de 3%\n",
    "    else:\n",
    "        return ventes * 0.03\n",
    "\n",
    "# Exemple : objectif de vente de 20 000 reais\n",
    "objectif = 20000\n",
    "\n",
    "# Liste des valeurs de ventes\n",
    "ventes_list = [18000, 25000, 40000, 70000, 15000]\n",
    "\n",
    "# Appliquer la fonction pour chaque vente et afficher les résultats\n",
    "for ventes in ventes_list:\n",
    "    bonus = calculer_bonus(ventes, objectif)\n",
    "    print(f\"Pour {ventes} reais de ventes, le bonus est de {bonus} reais.\")\n"
   ]
  }
 ],
 "metadata": {
  "kernelspec": {
   "display_name": "Python 3",
   "language": "python",
   "name": "python3"
  },
  "language_info": {
   "codemirror_mode": {
    "name": "ipython",
    "version": 3
   },
   "file_extension": ".py",
   "mimetype": "text/x-python",
   "name": "python",
   "nbconvert_exporter": "python",
   "pygments_lexer": "ipython3",
   "version": "3.13.1"
  }
 },
 "nbformat": 4,
 "nbformat_minor": 2
}
