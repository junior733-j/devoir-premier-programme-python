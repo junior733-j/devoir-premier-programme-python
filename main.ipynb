{
 "cells": [
  {
   "cell_type": "code",
   "execution_count": 3,
   "metadata": {},
   "outputs": [
    {
     "name": "stdout",
     "output_type": "stream",
     "text": [
      "Entrez correctement votre cpf et saisissez uniquement des chiffres\n"
     ]
    }
   ],
   "source": [
    "CPF = input((\"entrez des chifres uniquement : \"))\n",
    "if CPF.isdigit() and len (CPF) == 11 :\n",
    "    print(\"cpf correct\")\n",
    "else : \n",
    "    print (\" correctement votre cpf et saisissez uniquement des chiffres\")"
   ]
  },
  {
   "cell_type": "code",
   "execution_count": null,
   "metadata": {},
   "outputs": [],
   "source": [
    "cpf = input ((\"entrez votre cpf : \"))\n",
    "cpf = cpf.replace(\".\" , \"\").replace(\"-\" , \"\").replace(\" \" , \"\")\n",
    "if cpf.isdigit() and len (cpf) == 11 :\n",
    "    print (f\"cpf coorect: {cpf}\")\n",
    "else:\n",
    "    print (\"correctement votre cpf et saisissez uniquement des chiffres\")"
   ]
  }
 ],
 "metadata": {
  "kernelspec": {
   "display_name": "Python 3",
   "language": "python",
   "name": "python3"
  },
  "language_info": {
   "codemirror_mode": {
    "name": "ipython",
    "version": 3
   },
   "file_extension": ".py",
   "mimetype": "text/x-python",
   "name": "python",
   "nbconvert_exporter": "python",
   "pygments_lexer": "ipython3",
   "version": "3.13.1"
  }
 },
 "nbformat": 4,
 "nbformat_minor": 2
}
