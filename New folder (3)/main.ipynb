{
 "cells": [
  {
   "cell_type": "code",
   "execution_count": 6,
   "metadata": {},
   "outputs": [
    {
     "name": "stdout",
     "output_type": "stream",
     "text": [
      "Le pourcentage de chaque personne ayant atteint l'objectif 26.09 %.\n"
     ]
    }
   ],
   "source": [
    "vente = [1200, 300, 800, 1500, 1900, 2750, 400, 20, 23, 70, 90, 80, 1100, 999, 900, 880, 870, 50, 1111, 120, 300, 450, 800]\n",
    "objectif = 1000\n",
    "Atteint_objectif = [ vente for vente in vente\n",
    " if vente >= objectif]\n",
    "pourcentage = (len (Atteint_objectif) / len (vente)) * 100\n",
    "print (f\"Le pourcentage de chaque personne ayant atteint l'objectif {pourcentage:.2f} %.\")\n",
    "\n"
   ]
  }
 ],
 "metadata": {
  "kernelspec": {
   "display_name": "Python 3",
   "language": "python",
   "name": "python3"
  },
  "language_info": {
   "codemirror_mode": {
    "name": "ipython",
    "version": 3
   },
   "file_extension": ".py",
   "mimetype": "text/x-python",
   "name": "python",
   "nbconvert_exporter": "python",
   "pygments_lexer": "ipython3",
   "version": "3.13.1"
  }
 },
 "nbformat": 4,
 "nbformat_minor": 2
}
