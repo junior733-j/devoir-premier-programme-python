{
 "cells": [
  {
   "cell_type": "code",
   "execution_count": 1,
   "metadata": {},
   "outputs": [
    {
     "name": "stdout",
     "output_type": "stream",
     "text": [
      "195.0\n"
     ]
    }
   ],
   "source": [
    "\n",
    "quantite_pepsi = 130\n",
    "quantite_prix_unitaire_du_pepsi =1.50\n",
    "revenu_pepsi = quantite_pepsi * quantite_prix_unitaire_du_pepsi\n",
    "print(revenu_pepsi)"
   ]
  },
  {
   "cell_type": "code",
   "execution_count": 2,
   "metadata": {},
   "outputs": [
    {
     "name": "stdout",
     "output_type": "stream",
     "text": [
      "225.0\n"
     ]
    }
   ],
   "source": [
    "quantite_coca_cola = 150\n",
    "quantie_prix_unitaire_du_coca = 1.50\n",
    "revenu_coca = quantite_coca_cola * quantie_prix_unitaire_du_coca\n",
    "print(revenu_coca)"
   ]
  },
  {
   "cell_type": "code",
   "execution_count": 3,
   "metadata": {},
   "outputs": [
    {
     "name": "stdout",
     "output_type": "stream",
     "text": [
      "420.0\n"
     ]
    }
   ],
   "source": [
    "revenu_pepsi = 195.0\n",
    "revenu_coca  = 225.0\n",
    "revenu_total = revenu_pepsi + revenu_coca\n",
    "print(revenu_total)"
   ]
  },
  {
   "cell_type": "code",
   "execution_count": 4,
   "metadata": {},
   "outputs": [
    {
     "name": "stdout",
     "output_type": "stream",
     "text": [
      "-2080.0\n"
     ]
    }
   ],
   "source": [
    "revenu_total = 420.0\n",
    "depense_magasin =2500\n",
    "benefice = revenu_total - depense_magasin\n",
    "print(benefice)"
   ]
  },
  {
   "cell_type": "code",
   "execution_count": 5,
   "metadata": {},
   "outputs": [
    {
     "name": "stdout",
     "output_type": "stream",
     "text": [
      "-4.9523809523809526\n"
     ]
    }
   ],
   "source": [
    "benefice = -2080.0\n",
    "revenu_total = 420.0\n",
    "marge = benefice / revenu_total\n",
    "print(marge)"
   ]
  }
 ],
 "metadata": {
  "kernelspec": {
   "display_name": "Python 3",
   "language": "python",
   "name": "python3"
  },
  "language_info": {
   "codemirror_mode": {
    "name": "ipython",
    "version": 3
   },
   "file_extension": ".py",
   "mimetype": "text/x-python",
   "name": "python",
   "nbconvert_exporter": "python",
   "pygments_lexer": "ipython3",
   "version": "3.13.1"
  }
 },
 "nbformat": 4,
 "nbformat_minor": 2
}
